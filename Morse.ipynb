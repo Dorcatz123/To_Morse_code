{
 "cells": [
  {
   "cell_type": "code",
   "execution_count": 3,
   "id": "ed33da90",
   "metadata": {},
   "outputs": [],
   "source": [
    "import playsound\n",
    "playsound.playsound(\"Morse/0.mp3\")"
   ]
  },
  {
   "cell_type": "code",
   "execution_count": 4,
   "id": "08d484d1",
   "metadata": {},
   "outputs": [
    {
     "name": "stdout",
     "output_type": "stream",
     "text": [
      "Enter the string:ikuyago pwuiagq hpluahsd\n"
     ]
    }
   ],
   "source": [
    "user_input=input(\"Enter the string:\")"
   ]
  },
  {
   "cell_type": "code",
   "execution_count": null,
   "id": "3c4b224b",
   "metadata": {},
   "outputs": [],
   "source": [
    "for i in user_input:\n",
    "    if i.isalpha():\n",
    "        playsound.playsound(f\"Morse/{i.upper()}_morse_code.ogg.mp3\")\n",
    "    if i.isdigit():\n",
    "        playsound.playsound(f\"Morse/{i}.mp3\")\n",
    "    if i in ['.',',','/','(',')','&',';','=','+','-','_','$','@']:\n",
    "        playsound.playsound(f\"Morse/{i}.mp3\")\n",
    "    if i == ':':\n",
    "        playsound.playsound(f\"Morse/colon.mp3\")\n",
    "    if i == '\"':\n",
    "        playsound.playsound(f\"Morse/quote.mp3\") \n",
    "    if i == '?':\n",
    "        playsound.playsound(f\"Morse/question.mp3\") \n",
    "             "
   ]
  },
  {
   "cell_type": "code",
   "execution_count": null,
   "id": "7190135e",
   "metadata": {},
   "outputs": [],
   "source": []
  }
 ],
 "metadata": {
  "kernelspec": {
   "display_name": "Python 3 (ipykernel)",
   "language": "python",
   "name": "python3"
  },
  "language_info": {
   "codemirror_mode": {
    "name": "ipython",
    "version": 3
   },
   "file_extension": ".py",
   "mimetype": "text/x-python",
   "name": "python",
   "nbconvert_exporter": "python",
   "pygments_lexer": "ipython3",
   "version": "3.11.5"
  }
 },
 "nbformat": 4,
 "nbformat_minor": 5
}
