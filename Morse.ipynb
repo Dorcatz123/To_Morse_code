{
 "cells": [
  {
   "cell_type": "code",
   "execution_count": 3,
   "id": "ed33da90",
   "metadata": {},
   "outputs": [],
   "source": [
    "import playsound\n",
    "playsound.playsound(\"Morse/0.mp3\")"
   ]
  },
  {
   "cell_type": "code",
   "execution_count": 4,
   "id": "08d484d1",
   "metadata": {},
   "outputs": [
    {
     "name": "stdout",
     "output_type": "stream",
     "text": [
      "Enter the string:ikuyago pwuiagq hpluahsd\n"
     ]
    }
   ],
   "source": [
    "user_input=input(\"Enter the string:\")"
   ]
  },
  {
   "cell_type": "code",
   "execution_count": 5,
   "id": "3c4b224b",
   "metadata": {},
   "outputs": [
    {
     "ename": "KeyboardInterrupt",
     "evalue": "",
     "output_type": "error",
     "traceback": [
      "\u001b[1;31m---------------------------------------------------------------------------\u001b[0m",
      "\u001b[1;31mKeyboardInterrupt\u001b[0m                         Traceback (most recent call last)",
      "Cell \u001b[1;32mIn[5], line 3\u001b[0m\n\u001b[0;32m      1\u001b[0m \u001b[38;5;28;01mfor\u001b[39;00m i \u001b[38;5;129;01min\u001b[39;00m user_input:\n\u001b[0;32m      2\u001b[0m     \u001b[38;5;28;01mif\u001b[39;00m i\u001b[38;5;241m.\u001b[39misalpha():\n\u001b[1;32m----> 3\u001b[0m         playsound\u001b[38;5;241m.\u001b[39mplaysound(\u001b[38;5;124mf\u001b[39m\u001b[38;5;124m\"\u001b[39m\u001b[38;5;124mMorse/\u001b[39m\u001b[38;5;132;01m{\u001b[39;00mi\u001b[38;5;241m.\u001b[39mupper()\u001b[38;5;132;01m}\u001b[39;00m\u001b[38;5;124m_morse_code.ogg.mp3\u001b[39m\u001b[38;5;124m\"\u001b[39m)\n\u001b[0;32m      4\u001b[0m     \u001b[38;5;28;01mif\u001b[39;00m i\u001b[38;5;241m.\u001b[39misdigit():\n\u001b[0;32m      5\u001b[0m         playsound\u001b[38;5;241m.\u001b[39mplaysound(\u001b[38;5;124mf\u001b[39m\u001b[38;5;124m\"\u001b[39m\u001b[38;5;124mMorse/\u001b[39m\u001b[38;5;132;01m{\u001b[39;00mi\u001b[38;5;132;01m}\u001b[39;00m\u001b[38;5;124m.mp3\u001b[39m\u001b[38;5;124m\"\u001b[39m)\n",
      "File \u001b[1;32m~\\anaconda_new\\Lib\\site-packages\\playsound.py:41\u001b[0m, in \u001b[0;36m_playsoundWin\u001b[1;34m(sound, block)\u001b[0m\n\u001b[0;32m     38\u001b[0m winCommand(\u001b[38;5;124m'\u001b[39m\u001b[38;5;124mplay\u001b[39m\u001b[38;5;124m'\u001b[39m, alias, \u001b[38;5;124m'\u001b[39m\u001b[38;5;124mfrom 0 to\u001b[39m\u001b[38;5;124m'\u001b[39m, durationInMS\u001b[38;5;241m.\u001b[39mdecode())\n\u001b[0;32m     40\u001b[0m \u001b[38;5;28;01mif\u001b[39;00m block:\n\u001b[1;32m---> 41\u001b[0m     sleep(\u001b[38;5;28mfloat\u001b[39m(durationInMS) \u001b[38;5;241m/\u001b[39m \u001b[38;5;241m1000.0\u001b[39m)\n",
      "\u001b[1;31mKeyboardInterrupt\u001b[0m: "
     ]
    }
   ],
   "source": [
    "for i in user_input:\n",
    "    if i.isalpha():\n",
    "        playsound.playsound(f\"Morse/{i.upper()}_morse_code.ogg.mp3\")\n",
    "    if i.isdigit():\n",
    "        playsound.playsound(f\"Morse/{i}.mp3\")\n",
    "    if i in ['.',',','/','(',')','&',';','=','+','-','_','$','@']:\n",
    "        playsound.playsound(f\"Morse/{i}.mp3\")\n",
    "    if i == ':':\n",
    "        playsound.playsound(f\"Morse/colon.mp3\")\n",
    "    if i == '\"':\n",
    "        playsound.playsound(f\"Morse/quote.mp3\") \n",
    "    if i == '?':\n",
    "        playsound.playsound(f\"Morse/question.mp3\") \n",
    "             "
   ]
  },
  {
   "cell_type": "code",
   "execution_count": null,
   "id": "7190135e",
   "metadata": {},
   "outputs": [],
   "source": []
  }
 ],
 "metadata": {
  "kernelspec": {
   "display_name": "Python 3 (ipykernel)",
   "language": "python",
   "name": "python3"
  },
  "language_info": {
   "codemirror_mode": {
    "name": "ipython",
    "version": 3
   },
   "file_extension": ".py",
   "mimetype": "text/x-python",
   "name": "python",
   "nbconvert_exporter": "python",
   "pygments_lexer": "ipython3",
   "version": "3.11.5"
  }
 },
 "nbformat": 4,
 "nbformat_minor": 5
}
