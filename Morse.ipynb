{
 "cells": [
  {
   "cell_type": "markdown",
   "id": "e9e667ba",
   "metadata": {},
   "source": [
    "**To morse code:**"
   ]
  },
  {
   "cell_type": "code",
   "execution_count": 2,
   "id": "ed33da90",
   "metadata": {},
   "outputs": [],
   "source": [
    "import playsound"
   ]
  },
  {
   "cell_type": "code",
   "execution_count": 3,
   "id": "08d484d1",
   "metadata": {},
   "outputs": [
    {
     "name": "stdout",
     "output_type": "stream",
     "text": [
      "Enter the string: \"OpenAI is awesome!\"?\n"
     ]
    }
   ],
   "source": [
    "user_input=input(\"Enter the string:\")"
   ]
  },
  {
   "cell_type": "markdown",
   "id": "e632dd00",
   "metadata": {},
   "source": [
    "**Convert to Morse**"
   ]
  },
  {
   "cell_type": "code",
   "execution_count": 7,
   "id": "7190135e",
   "metadata": {},
   "outputs": [
    {
     "name": "stdout",
     "output_type": "stream",
     "text": [
      "morse equivalent is: \n",
      " / .-..-. --- .--. . -. .- .. / .. ... / .- .-- . ... --- -- . -.-.-- .-..-. ..--.. \n"
     ]
    }
   ],
   "source": [
    "morse_code={\n",
    "    'A': '.-', 'B': '-...', 'C': '-.-.', 'D': '-..', 'E': '.', 'F': '..-.', 'G': '--.', 'H': '....', 'I': '..', 'J': '.---',\n",
    "    'K': '-.-', 'L': '.-..', 'M': '--', 'N': '-.', 'O': '---', 'P': '.--.', 'Q': '--.-', 'R': '.-.', 'S': '...', 'T': '-',\n",
    "    'U': '..-', 'V': '...-', 'W': '.--', 'X': '-..-', 'Y': '-.--', 'Z': '--..',\n",
    "    '1': '.----', '2': '..---', '3': '...--', '4': '....-', '5': '.....', '6': '-....', '7': '--...', '8': '---..', '9': '----.', '0': '-----',\n",
    "    '.': '.-.-.-', ',': '--..--', '?': '..--..', \"'\": '.----.', '!': '-.-.--', '/': '-..-.', '(': '-.--.', ')': '-.--.-', '&': '.-...', ':': '---...',\n",
    "    ';': '-.-.-.', '=': '-...-', '+': '.-.-.', '-': '-....-', '_': '..--.-', '\"': '.-..-.', '$': '...-..-', '@': '.--.-.', ' ': '/'\n",
    "}\n",
    "\n",
    "\n",
    "to_morse=''\n",
    "for i in user_input:\n",
    "    try:\n",
    "        if i.isalpha():\n",
    "            to_morse += morse_code.get(i.upper()) + ' '\n",
    "        else:\n",
    "             to_morse += morse_code.get(i) + ' '\n",
    "    except:\n",
    "        print(f\" character {i} doesn't have Morse equivalent!\")\n",
    "        \n",
    "print(f\"morse equivalent is: \\n {to_morse}\")        "
   ]
  },
  {
   "cell_type": "markdown",
   "id": "eba6aae3",
   "metadata": {},
   "source": [
    "**Listen to the morse code**"
   ]
  },
  {
   "cell_type": "code",
   "execution_count": 6,
   "id": "3c4b224b",
   "metadata": {},
   "outputs": [],
   "source": [
    "import time\n",
    "for i in user_input:\n",
    "    time.sleep(0.5)\n",
    "    if i.isalpha():\n",
    "        playsound.playsound(f\"Morse/{i.upper()}_morse_code.ogg.mp3\")\n",
    "    if i.isdigit():\n",
    "        playsound.playsound(f\"Morse/{i}.mp3\")\n",
    "    if i in ['.',',','/','(',')','&',';','=','+','-','_','$','@']:\n",
    "        playsound.playsound(f\"Morse/{i}.mp3\")\n",
    "    if i == ':':\n",
    "        playsound.playsound(f\"Morse/colon.mp3\")\n",
    "    if i == '\"':\n",
    "        playsound.playsound(f\"Morse/quote.mp3\") \n",
    "    if i == '?':\n",
    "        playsound.playsound(f\"Morse/question.mp3\") \n",
    "             "
   ]
  }
 ],
 "metadata": {
  "kernelspec": {
   "display_name": "Python 3 (ipykernel)",
   "language": "python",
   "name": "python3"
  },
  "language_info": {
   "codemirror_mode": {
    "name": "ipython",
    "version": 3
   },
   "file_extension": ".py",
   "mimetype": "text/x-python",
   "name": "python",
   "nbconvert_exporter": "python",
   "pygments_lexer": "ipython3",
   "version": "3.11.5"
  }
 },
 "nbformat": 4,
 "nbformat_minor": 5
}
